{
 "cells": [
  {
   "cell_type": "code",
   "execution_count": 12,
   "metadata": {},
   "outputs": [],
   "source": [
    "ingredients = {     'Alit Hide': ['Drain Intelligence', 'Resist Poison', 'Telekinesis','Detect Animal'],\n",
    "                    'Ampoule Pod': ['Water Walking', 'Paralyze',  'Detect Animal', 'Drain Willpower'],\n",
    "                    'Ash Salts': ['Drain Agility', 'Resist Magicka', 'Cure Blight Disease' 'Resist Magicka'],\n",
    "                    'Ash Yam': ['Fortify Intelligence', 'Fortify Strength', 'Resist Common Disease', 'Detect Key'],\n",
    "                    'Bittergreen Petal': ['Restore Intelligence', 'Invisibility', 'Drain Endurance', 'Drain Magicka'],\n",
    "                    'Black Anther': ['Drain Agility', 'Resist Fire', 'Drain Endurance', 'Light'],\n",
    "                    'Black Lichen': ['Drain Strength', 'Resist Frost', 'Drain Speed', 'Cure Poison'],\n",
    "                    'Bloat': ['Drain Magicka','Fortify Intelligence','Fortify Willpower','Detect Animal'],\n",
    "                    'Bonemeal': ['Restore Agility', 'Telekinesis', 'Drain Fatigue', 'Drain Personality'],\n",
    "                    'Bread': ['Restore Fatigue'],\n",
    "                    \"Bungler's Bane\": ['Drain Speed', 'Drain Endurance', 'Dispel', 'Drain Strength'],\n",
    "                    'Chokeweed': ['Drain Luck', 'Restore Fatigue', 'Cure Common Disease', 'Drain Willpower'],\n",
    "                    'Coda Flower': ['Drain Personality', 'Levitate', 'Drain Intelligence', 'Drain Health'],\n",
    "                    'Comberry': ['Drain Fatigue', 'Restore Magicka', 'Fire Shield', 'Reflect'],\n",
    "                    'Corkbulb Root': ['Cure Paralyzation', 'Restore Health', 'Lightning Shield', 'Fortify Luck'],\n",
    "                    'Corprus Weepings': ['Drain Fatigue', 'Fortify Luck', 'Drain Willpower', 'Restore Health'],\n",
    "                    'Crab Meat': ['Restore Fatigue','Resist Shock','Lightning Shield','Restore Luck'],\n",
    "                    'Daedra Skin': ['Fortify Strength','Cure Common Disease','Paralyze','Swift Swim'],\n",
    "                    \"Daedra's Heart\": ['Restore Magicka','Fortify Endurance','Drain Agility','Night Eye'],\n",
    "                    'Diamond': ['Drain Agility','Invisibility','Reflect','Detect Key'],\n",
    "                    'Dreugh Wax': ['Fortify Strength','Restore Strength','Drain Luck','Drain Willpower'],\n",
    "                    'Ectoplasm': ['Fortify Agility','Detect Animal','Drain Strength','Drain Health'],\n",
    "                    'Emerald': ['Fortify Magicka','Restore Health','Drain Agility','Drain Endurance'],\n",
    "                    'Fire Petal': ['Resist Fire','Drain Health','Spell Absorption','Paralyze'],\n",
    "                    'Fire Salts': ['Drain Health','Fortify Agility','Resist Frost','Fire Shield'],\n",
    "                    'Frost Salts': ['Drain Speed','Restore Magicka','Frost Shield','Resist Fire'],\n",
    "                    'Ghoul Heart': ['Paralyze','Cure Poison','Fortify Attack'],\n",
    "                    'Gold Kanet': ['Drain Health','Burden','Drain Luck','Restore Strength'],\n",
    "                    'Gravedust': ['Drain Intelligence','Cure Common Disease','Drain Magicka','Restore Endurance'],\n",
    "                    'Green Lichen': ['Fortify Personality','Cure Common Disease','Drain Strength','Drain Health'],\n",
    "                    'Guar Hide': ['Drain Fatigue','Fortify Endurance','Restore Personality','Fortify Luck'],\n",
    "                    'Hackle-Lo Leaf': ['Restore Fatigue','Paralyze','Water Breathing','Restore Luck'],\n",
    "                    'Heather': ['Restore Personality','Feather','Drain Speed','Drain Personality'],\n",
    "                    'Hound Meat': ['Restore Fatigue','Fortify Fatigue','Reflect','Detect Enchantment'],\n",
    "                    'Hypha Facia': ['Drain Luck','Drain Agility','Drain Fatigue','Detect Enchantment'],\n",
    "                    'Kagouti Hide': ['Drain Fatigue','Fortify Speed','Resist Common Disease','Night Eye'],\n",
    "                    'Kresh Fiber':\t['Restore Luck', 'Fortify Personality', 'Drain Magicka', 'Drain Speed'],\n",
    "                    'Kwama Cuttle': ['Resist Poison','Drain Fatigue','Water Walking','Water Breathing'],\n",
    "                    'Large Kwama Egg': ['Restore Fatigue','Paralyze','Frost Shield','Fortify Health'],\n",
    "                    'Luminous Russula': ['Water Breathing','Drain Fatigue','Poison'],\n",
    "                    'Marshmerrow': ['Restore Health','Detect Enchantment','Drain Willpower','Drain Fatigue'],\n",
    "                    'Moon Sugar': ['Fortify Speed','Dispel','Drain Endurance','Drain Luck'],\n",
    "                    'Muck': ['Drain Intelligence','Detect Key','Drain Personality','Cure Common Disease'],\n",
    "                    'Netch Leather': ['Fortify Endurance','Fortify Intelligence','Drain Personality','Cure Paralyzation'],\n",
    "                    'Pearl': ['Drain Agility','Dispel','Water Breathing','Resist Common Disease'],\n",
    "                    'Racer Plumes': ['Drain Willpower','Levitate'],\n",
    "                    'Rat Meat': ['Drain Magicka','Paralyze','Cure Poison','Resist Poison'],\n",
    "                    'Raw Ebony': ['Drain Agility','Cure Poison','Frost Shield','Restore Speed'],\n",
    "                    'Raw Glass': ['Drain Intelligence','Drain Strength','Drain Speed','Fire Shield'],\n",
    "                    'Red Lichen': ['Drain Speed','Light','Cure Common Disease','Drain Magicka'],\n",
    "                    'Resin': ['Restore Health','Restore Speed','Burden','Resist Common Disease'],\n",
    "                    'Roobrush': ['Drain Willpower','Fortify Agility','Drain Health','Cure Poison'],\n",
    "                    'Ruby': ['Drain Health','Feather','Restore Intelligence','Drain Agility'],\n",
    "                    'Saltrice': ['Restore Fatigue','Fortify Magicka','Drain Strength','Restore Health'],\n",
    "                    'Scales': ['Drain Personality','Water Walking','Restore Endurance','Swift Swim'],\n",
    "                    'Scamp Skin': ['Drain Magicka','Cure Paralyzation','Restore Personality','Restore Strength'],\n",
    "                    'Scathecraw': ['Drain Strength','Cure Poison','Drain Health','Restore Willpower'],\n",
    "                    'Scrap Metal':\t['Drain Health','Lightning Shield','Resist Shock','Restore Intelligence'],\n",
    "                    'Scrib Jelly':\t['Fortify Willpower','Cure Poison','Cure Blight Disease','Restore Willpower'],\n",
    "                    'Scrib Jerky': ['Restore Fatigue','Fortify Fatigue','Burden','Swift Swim'],\n",
    "                    'Scuttle': ['Restore Fatigue','Fortify Fatigue','Feather','Telekinesis'],\n",
    "                    'Shalk Resin': ['Drain Fatigue','Fortify Health','Drain Personality','Fortify Speed'],\n",
    "                    'Sload Soap': ['Drain Personality','Fortify Agility','Fire Shield','Restore Agility'],\n",
    "                    'Small Kwama Egg': ['Restore Fatigue'],\n",
    "                    'Spore Pod': ['Drain Strength','Drain Fatigue','Detect Key','Paralyze'],\n",
    "                    'Stoneflower Petals': ['Restore Strength','Fortify Magicka','Drain Luck','Fortify Personality'],\n",
    "                    'Trama Root': ['Restore Willpower','Levitate','Drain Magicka','Drain Speed'],\n",
    "                    'Vampire Dust': ['Fortify Health','Fortify Strength','Spell Absorption','Vampirism'],\n",
    "                    'Violet Coprinus':\t['Water Walking','Drain Fatigue','Poison'],\n",
    "                    'Void Salts': ['Restore Magicka','Spell Absorption','Paralyze','Drain Endurance'],\n",
    "                    'Wickwheat': ['Restore Health','Fortify Willpower','Paralyze','Damage Intelligence'],\n",
    "                    'Willow Anther': ['Drain Personality','Frost Shield','Cure Common Disease','Cure Paralyzation'] }\n"
   ]
  },
  {
   "cell_type": "code",
   "execution_count": 21,
   "metadata": {},
   "outputs": [
    {
     "ename": "SyntaxError",
     "evalue": "unterminated string literal (detected at line 3) (1910924252.py, line 3)",
     "output_type": "error",
     "traceback": [
      "\u001b[1;36m  Cell \u001b[1;32mIn[21], line 3\u001b[1;36m\u001b[0m\n\u001b[1;33m    \"\u001b[0m\n\u001b[1;37m    ^\u001b[0m\n\u001b[1;31mSyntaxError\u001b[0m\u001b[1;31m:\u001b[0m unterminated string literal (detected at line 3)\n"
     ]
    }
   ],
   "source": []
  },
  {
   "cell_type": "code",
   "execution_count": null,
   "metadata": {},
   "outputs": [],
   "source": []
  }
 ],
 "metadata": {
  "kernelspec": {
   "display_name": "mapvenv",
   "language": "python",
   "name": "python3"
  },
  "language_info": {
   "codemirror_mode": {
    "name": "ipython",
    "version": 3
   },
   "file_extension": ".py",
   "mimetype": "text/x-python",
   "name": "python",
   "nbconvert_exporter": "python",
   "pygments_lexer": "ipython3",
   "version": "3.12.0"
  }
 },
 "nbformat": 4,
 "nbformat_minor": 2
}
